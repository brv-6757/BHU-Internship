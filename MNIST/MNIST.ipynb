{
 "cells": [
  {
   "cell_type": "code",
   "execution_count": 1,
   "id": "5f51ddbc",
   "metadata": {},
   "outputs": [],
   "source": [
    "import numpy as np\n",
    "from pynq import Overlay, allocate\n",
    "import matplotlib.pyplot as plt\n",
    "from PIL import Image"
   ]
  },
  {
   "cell_type": "code",
   "execution_count": 2,
   "id": "317a914d",
   "metadata": {},
   "outputs": [
    {
     "data": {
      "application/javascript": [
       "\n",
       "try {\n",
       "require(['notebook/js/codecell'], function(codecell) {\n",
       "  codecell.CodeCell.options_default.highlight_modes[\n",
       "      'magic_text/x-csrc'] = {'reg':[/^%%microblaze/]};\n",
       "  Jupyter.notebook.events.one('kernel_ready.Kernel', function(){\n",
       "      Jupyter.notebook.get_cells().map(function(cell){\n",
       "          if (cell.cell_type == 'code'){ cell.auto_highlight(); } }) ;\n",
       "  });\n",
       "});\n",
       "} catch (e) {};\n"
      ]
     },
     "metadata": {},
     "output_type": "display_data"
    },
    {
     "data": {
      "application/javascript": [
       "\n",
       "try {\n",
       "require(['notebook/js/codecell'], function(codecell) {\n",
       "  codecell.CodeCell.options_default.highlight_modes[\n",
       "      'magic_text/x-csrc'] = {'reg':[/^%%pybind11/]};\n",
       "  Jupyter.notebook.events.one('kernel_ready.Kernel', function(){\n",
       "      Jupyter.notebook.get_cells().map(function(cell){\n",
       "          if (cell.cell_type == 'code'){ cell.auto_highlight(); } }) ;\n",
       "  });\n",
       "});\n",
       "} catch (e) {};\n"
      ]
     },
     "metadata": {},
     "output_type": "display_data"
    },
    {
     "data": {
      "text/plain": [
       "dict_keys(['mnist_2_0', 'axi_intc_0', 'processing_system7_0'])"
      ]
     },
     "execution_count": 2,
     "metadata": {},
     "output_type": "execute_result"
    }
   ],
   "source": [
    "overlay = Overlay(\"/home/xilinx/jupyter_notebooks/VINIT/vinit.bit\")\n",
    "overlay.ip_dict.keys()"
   ]
  },
  {
   "cell_type": "code",
   "execution_count": 3,
   "id": "22a5c412",
   "metadata": {},
   "outputs": [
    {
     "name": "stdout",
     "output_type": "stream",
     "text": [
      "[  0   0   0   0   0   0   0   0   0   0   0   0   0   0   0   0   0   0\n",
      "   0   0   0   0   0   0   0   0   0   0   0   0   0   0   0   0   0   0\n",
      "   0   0   0   0   0   0   0   0   0   0   0   0   0   0   0   0   0   0\n",
      "   0   0   0   0   0   0   0   0   0   0   0   0   0   0   0   0   0   0\n",
      "   0   0   0   0   0   0   0   0   0   0   0   0   0   0   0   0   0   0\n",
      "   0   0   0   0   0   0   0   0   0   0   0   0   0   0   0   0   0   0\n",
      "   0   0   0   0   0   0   0   0   0   0   0   0   0   0   0   0   0   0\n",
      "   0   0   0   0   0   0   0   0   0   0   0   0   0   0   0   0   0   0\n",
      "   0   0   0   0   0   0   0   0   0   0   0   0   0   0   0   0   0   0\n",
      "   0   0   0   0   0   0   0   0   0   0   0   0   0   0   0   0   0   0\n",
      "   0  38 115 217 156  48   0   0   0   0   0   0   0   0   0   0   0   0\n",
      "   0   0   0   0   0   0   0   0   0  30 140 233 254 254 254 246  44   0\n",
      "   0   0   0   0   0   0   0   0   0   0   0   0   0   0   0   0   0   0\n",
      "  28 236 254 254 199 108 152 252 182   0   0   0   0   0   0   0   0   0\n",
      "   0   0   0   0   0   0   0   0   0  28 240 254 229  68   3   0   0 172\n",
      " 229  14   0   0   0   0   0   0   0   0   0   0   0   0   0   0   0   0\n",
      "   0 139 254 183  30   0   0   8 107 208 254  38   0   0   0   0   0   0\n",
      "   0   0   0   0   0   0   0   0   0   0   0 204 247  11   0   0   0 130\n",
      " 254 254 202   6   0   0   0   0   0   0   0   0   0   0   0   0   0   0\n",
      "   0   0  12 227 171   0   0   0  18 234 254 254 113   0   0   0   0   0\n",
      "   0   0   0   0   0   0   0   0   0   0   0   0   0 216 102   0   0  10\n",
      " 189 254 254 252  54   0   0   0   0   0   0   0   0   0   0   0   0   0\n",
      "   0   0   0   0   0 199 209   0  12 138 254 254 254 198   0   0   0   0\n",
      "   0   0   0   0   0   0   0   0   0   0   0   0   0   0   0  93 253 231\n",
      " 236 254 247 191 254 161   0   0   0   0   0   0   0   0   0   0   0   0\n",
      "   0   0   0   0   0   0   0   0 172 255 254 247 118 131 255 131   0   0\n",
      "   0   0   0   0   0   0   0   0   0   0   0   0   0   0   0   0   0   0\n",
      "   2  63 130  44   0 200 254  85   0   0   0   0   0   0   0   0   0   0\n",
      "   0   0   0   0   0   0   0   0   0   0   0   0   0   0   0 200 254  85\n",
      "   0   0   0   0   0   0   0   0   0   0   0   0   0   0   0   0   0   0\n",
      "   0   0   0   0   0   0   9 220 254  85   0   0   0   0   0   0   0   0\n",
      "   0   0   0   0   0   0   0   0   0   0   0   0   0   0   0   0  35 254\n",
      " 254  85   0   0   0   0   0   0   0   0   0   0   0   0   0   0   0   0\n",
      "   0   0   0   0   0   0   0   0 101 254 254  19   0   0   0   0   0   0\n",
      "   0   0   0   0   0   0   0   0   0   0   0   0   0   0   0   0   0   0\n",
      "  54 254 254   7   0   0   0   0   0   0   0   0   0   0   0   0   0   0\n",
      "   0   0   0   0   0   0   0   0   0   0 101 254 254   7   0   0   0   0\n",
      "   0   0   0   0   0   0   0   0   0   0   0   0   0   0   0   0   0   0\n",
      "   0   0  85 254 254   7   0   0   0   0   0   0   0   0   0   0   0   0\n",
      "   0   0   0   0   0   0   0   0   0   0   0   0   3 205 143   1   0   0\n",
      "   0   0   0   0   0   0   0   0   0   0   0   0   0   0   0   0   0   0\n",
      "   0   0   0   0   0   0   0   0   0   0   0   0   0   0   0   0   0   0\n",
      "   0   0   0   0   0   0   0   0   0   0   0   0   0   0   0   0   0   0\n",
      "   0   0   0   0   0   0   0   0   0   0]\n"
     ]
    }
   ],
   "source": [
    "image_path = \"/home/xilinx/jupyter_notebooks/VINIT/Row1005.png\"\n",
    "image = Image.open(image_path)\n",
    "bw_image = image.convert('L')\n",
    "ip_image = np.array(bw_image,dtype=int).flatten()\n",
    "#kern = np.array([0,-1,0,-1,5,-1,0,-1,0],dtype=int)\n",
    "\n",
    "in_buff = allocate(shape=(784,), dtype=int)\n",
    "\n",
    "    \n",
    "#kern_buff = allocate(shape=(9,), dtype=int)\n",
    "out_buff = allocate(shape=(1,),dtype=int)\n",
    "np.copyto(in_buff,ip_image)\n",
    "in_buff = in_buff\n",
    "#np.copyto(kern_buff,kern)\n",
    "print(in_buff)\n",
    "#print(kern_buff)"
   ]
  },
  {
   "cell_type": "code",
   "execution_count": 4,
   "id": "5b8ea6ff",
   "metadata": {},
   "outputs": [
    {
     "data": {
      "text/plain": [
       "RegisterMap {\n",
       "  CTRL = Register(AP_START=0, AP_DONE=0, AP_IDLE=1, AP_READY=0, RESERVED_1=0, AUTO_RESTART=0, RESERVED_2=0, INTERRUPT=0, RESERVED_3=0),\n",
       "  GIER = Register(Enable=0, RESERVED=0),\n",
       "  IP_IER = Register(CHAN0_INT_EN=0, CHAN1_INT_EN=0, RESERVED_0=0),\n",
       "  IP_ISR = Register(CHAN0_INT_ST=0, CHAN1_INT_ST=0, RESERVED_0=0),\n",
       "  input_r_1 = Register(input_r=write-only),\n",
       "  input_r_2 = Register(input_r=write-only),\n",
       "  output_r_1 = Register(output_r=write-only),\n",
       "  output_r_2 = Register(output_r=write-only)\n",
       "}"
      ]
     },
     "execution_count": 4,
     "metadata": {},
     "output_type": "execute_result"
    }
   ],
   "source": [
    "my_ip = overlay.mnist_2_0\n",
    "reg_map = my_ip.register_map\n",
    "reg_map"
   ]
  },
  {
   "cell_type": "code",
   "execution_count": 5,
   "id": "94994b24",
   "metadata": {},
   "outputs": [],
   "source": [
    "my_ip.register_map.input_r_1 = in_buff.physical_address \n",
    "#my_ip.register_map.b_1 = kern_buff.physical_address\n",
    "my_ip.register_map.output_r_1 = out_buff.physical_address"
   ]
  },
  {
   "cell_type": "code",
   "execution_count": 6,
   "id": "79a2d4a8",
   "metadata": {},
   "outputs": [],
   "source": [
    "my_ip.write(0x0,0x81)"
   ]
  },
  {
   "cell_type": "code",
   "execution_count": 7,
   "id": "0ef8d9fc",
   "metadata": {},
   "outputs": [
    {
     "data": {
      "text/plain": [
       "377786368"
      ]
     },
     "execution_count": 7,
     "metadata": {},
     "output_type": "execute_result"
    }
   ],
   "source": [
    "in_buff.physical_address"
   ]
  },
  {
   "cell_type": "code",
   "execution_count": 8,
   "id": "2b261e06",
   "metadata": {},
   "outputs": [
    {
     "data": {
      "text/plain": [
       "0"
      ]
     },
     "execution_count": 8,
     "metadata": {},
     "output_type": "execute_result"
    }
   ],
   "source": [
    "my_ip.register_map.CTRL.AP_DONE"
   ]
  },
  {
   "cell_type": "code",
   "execution_count": 9,
   "id": "cc0be625",
   "metadata": {},
   "outputs": [
    {
     "name": "stdout",
     "output_type": "stream",
     "text": [
      "original digit is : \n"
     ]
    },
    {
     "data": {
      "image/png": "[encoded data removed]",
      "text/plain": [
       "<Figure size 432x288 with 1 Axes>"
      ]
     },
     "metadata": {
      "needs_background": "light"
     },
     "output_type": "display_data"
    }
   ],
   "source": [
    "plt.imshow(in_buff.reshape(28,28),cmap=\"gray\")\n",
    "print(\"original digit is : \")\n",
    "plt.show()"
   ]
  },
  {
   "cell_type": "code",
   "execution_count": 10,
   "id": "a3a273a5",
   "metadata": {},
   "outputs": [
    {
     "name": "stdout",
     "output_type": "stream",
     "text": [
      "classified digit is [9]\n"
     ]
    }
   ],
   "source": [
    "\n",
    "print(\"classified digit is \" + str(out_buff))\n"
   ]
  },
  {
   "cell_type": "code",
   "execution_count": 11,
   "id": "a5c945a9",
   "metadata": {},
   "outputs": [],
   "source": [
    "# x_test = np.load(\"my_data.npy\")\n",
    "# # y_test = np.load(\"labels.npy\")\n",
    "# x_test.head()"
   ]
  },
  {
   "cell_type": "code",
   "execution_count": 12,
   "id": "c676624e",
   "metadata": {},
   "outputs": [],
   "source": [
    "\n",
    "# def test(img):\n",
    "#   my_ip.write(0x0,0x81)\n",
    "#   np.copyto(in_buff,img)\n",
    "#   my_ip.input_r = in_buff.physical_address\n",
    "#   my_ip.output_r = out_buff.physical_address\n",
    "#   return out_buff\n",
    "\n",
    "# count = 0\n",
    "# for i in range(len(x_test)):\n",
    "#   img = x_test[i].reshape(784,)\n",
    "#   res = test(img)\n",
    "#   print(res,y_test[i])\n",
    "#   if(res==y_test[i]):\n",
    "#      count += 1\n",
    "    \n",
    "# print(count)"
   ]
  },
  {
   "cell_type": "code",
   "execution_count": 13,
   "id": "8076bf4c",
   "metadata": {},
   "outputs": [],
   "source": [
    "# C:\\\\Users\\\\hello\\\\Desktop\\\\Row1358.png\n",
    "\n",
    "\n",
    "# from PIL import Image\n",
    "\n",
    "# # Load the image\n",
    "# image_path = \"\"\n",
    "# image = Image.open(image_path)\n",
    "\n",
    "# # Get the pixel values\n",
    "# pixels = list(image.getdata())\n",
    "\n",
    "# # If you need the pixel values in a 2D array (list of lists)\n",
    "# width, height = image.size\n",
    "# pixels_2d = [pixels[i * width:(i + 1) * width] for i in range(height)]\n",
    "\n",
    "# # Example: print the pixel values\n",
    "# print(pixels)\n",
    "# # or\n",
    "# print(pixels_2d)\n"
   ]
  },
  {
   "cell_type": "code",
   "execution_count": null,
   "id": "186c0388",
   "metadata": {},
   "outputs": [],
   "source": []
  },
  {
   "cell_type": "code",
   "execution_count": null,
   "id": "f591c954",
   "metadata": {},
   "outputs": [],
   "source": []
  }
 ],
 "metadata": {
  "kernelspec": {
   "display_name": "Python 3 (ipykernel)",
   "language": "python",
   "name": "python3"
  },
  "language_info": {
   "codemirror_mode": {
    "name": "ipython",
    "version": 3
   },
   "file_extension": ".py",
   "mimetype": "text/x-python",
   "name": "python",
   "nbconvert_exporter": "python",
   "pygments_lexer": "ipython3",
   "version": "3.10.4"
  }
 },
 "nbformat": 4,
 "nbformat_minor": 5
}
