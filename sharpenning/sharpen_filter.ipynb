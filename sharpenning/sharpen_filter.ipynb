{
 "cells": [
  {
   "cell_type": "code",
   "execution_count": 1,
   "id": "d3af601b",
   "metadata": {},
   "outputs": [],
   "source": [
    "import numpy as np\n",
    "from pynq import Overlay, allocate\n",
    "import matplotlib.pyplot as plt\n",
    "from PIL import Image"
   ]
  },
  {
   "cell_type": "code",
   "execution_count": 2,
   "id": "be8d1304",
   "metadata": {},
   "outputs": [
    {
     "data": {
      "application/javascript": [
       "\n",
       "try {\n",
       "require(['notebook/js/codecell'], function(codecell) {\n",
       "  codecell.CodeCell.options_default.highlight_modes[\n",
       "      'magic_text/x-csrc'] = {'reg':[/^%%microblaze/]};\n",
       "  Jupyter.notebook.events.one('kernel_ready.Kernel', function(){\n",
       "      Jupyter.notebook.get_cells().map(function(cell){\n",
       "          if (cell.cell_type == 'code'){ cell.auto_highlight(); } }) ;\n",
       "  });\n",
       "});\n",
       "} catch (e) {};\n"
      ]
     },
     "metadata": {},
     "output_type": "display_data"
    },
    {
     "data": {
      "application/javascript": [
       "\n",
       "try {\n",
       "require(['notebook/js/codecell'], function(codecell) {\n",
       "  codecell.CodeCell.options_default.highlight_modes[\n",
       "      'magic_text/x-csrc'] = {'reg':[/^%%pybind11/]};\n",
       "  Jupyter.notebook.events.one('kernel_ready.Kernel', function(){\n",
       "      Jupyter.notebook.get_cells().map(function(cell){\n",
       "          if (cell.cell_type == 'code'){ cell.auto_highlight(); } }) ;\n",
       "  });\n",
       "});\n",
       "} catch (e) {};\n"
      ]
     },
     "metadata": {},
     "output_type": "display_data"
    },
    {
     "data": {
      "text/plain": [
       "dict_keys(['conv_0', 'axi_intc_0', 'processing_system7_0'])"
      ]
     },
     "execution_count": 2,
     "metadata": {},
     "output_type": "execute_result"
    }
   ],
   "source": [
    "overlay = Overlay(\"/home/xilinx/jupyter_notebooks/img_inv_blk/conv.bit\")\n",
    "overlay.ip_dict.keys()"
   ]
  },
  {
   "cell_type": "code",
   "execution_count": 3,
   "id": "d1a3a71b",
   "metadata": {},
   "outputs": [
    {
     "name": "stdout",
     "output_type": "stream",
     "text": [
      "[160 158 159 ...  59  80 101]\n",
      "[ 0 -1  0 -1  5 -1  0 -1  0]\n"
     ]
    }
   ],
   "source": [
    "image_path = \"/home/xilinx/jupyter_notebooks/img_inv_blk/img_blk.jpg\"\n",
    "image = Image.open(image_path)\n",
    "bw_image = image.convert('L')\n",
    "ip_image = np.array(bw_image,dtype=int).flatten()\n",
    "kern = np.array([0,-1,0,-1,5,-1,0,-1,0],dtype=int)\n",
    "\n",
    "in_buff = allocate(shape=(10000,), dtype=int)\n",
    "kern_buff = allocate(shape=(9,), dtype=int)\n",
    "out_buff = allocate(shape=(10000,),dtype=int)\n",
    "np.copyto(in_buff,ip_image)\n",
    "np.copyto(kern_buff,kern)\n",
    "print(in_buff)\n",
    "print(kern_buff)"
   ]
  },
  {
   "cell_type": "code",
   "execution_count": 4,
   "id": "59499c77",
   "metadata": {},
   "outputs": [
    {
     "data": {
      "text/plain": [
       "RegisterMap {\n",
       "  CTRL = Register(AP_START=0, AP_DONE=0, AP_IDLE=1, AP_READY=0, RESERVED_1=0, AUTO_RESTART=0, RESERVED_2=0, INTERRUPT=0, RESERVED_3=0),\n",
       "  GIER = Register(Enable=0, RESERVED=0),\n",
       "  IP_IER = Register(CHAN0_INT_EN=0, CHAN1_INT_EN=0, RESERVED_0=0),\n",
       "  IP_ISR = Register(CHAN0_INT_ST=0, CHAN1_INT_ST=0, RESERVED_0=0),\n",
       "  a_1 = Register(a=write-only),\n",
       "  a_2 = Register(a=write-only),\n",
       "  b_1 = Register(b=write-only),\n",
       "  b_2 = Register(b=write-only),\n",
       "  c_1 = Register(c=write-only),\n",
       "  c_2 = Register(c=write-only)\n",
       "}"
      ]
     },
     "execution_count": 4,
     "metadata": {},
     "output_type": "execute_result"
    }
   ],
   "source": [
    "my_ip = overlay.conv_0\n",
    "reg_map = my_ip.register_map\n",
    "reg_map"
   ]
  },
  {
   "cell_type": "code",
   "execution_count": 5,
   "id": "4bfac620",
   "metadata": {},
   "outputs": [
    {
     "name": "stdout",
     "output_type": "stream",
     "text": [
      "py_buffer physical address 0x16850000\n"
     ]
    }
   ],
   "source": [
    "print(\"py_buffer physical address {}\".format(hex(in_buff.physical_address)))"
   ]
  },
  {
   "cell_type": "code",
   "execution_count": 11,
   "id": "b1c4e7a2",
   "metadata": {},
   "outputs": [
    {
     "data": {
      "text/plain": [
       "'0x81'"
      ]
     },
     "execution_count": 11,
     "metadata": {},
     "output_type": "execute_result"
    }
   ],
   "source": [
    "hex(my_ip.read(0x0))"
   ]
  },
  {
   "cell_type": "code",
   "execution_count": 9,
   "id": "b84aadc1",
   "metadata": {},
   "outputs": [],
   "source": [
    "my_ip.register_map.a_1 = in_buff.physical_address\n",
    "my_ip.register_map.b_1 = kern_buff.physical_address\n",
    "my_ip.register_map.c_1 = out_buff.physical_address"
   ]
  },
  {
   "cell_type": "code",
   "execution_count": 10,
   "id": "e5d309cd",
   "metadata": {},
   "outputs": [],
   "source": [
    "my_ip.write(0x0,0x81)"
   ]
  },
  {
   "cell_type": "code",
   "execution_count": 23,
   "id": "13486118",
   "metadata": {},
   "outputs": [
    {
     "data": {
      "text/plain": [
       "0"
      ]
     },
     "execution_count": 23,
     "metadata": {},
     "output_type": "execute_result"
    }
   ],
   "source": [
    "my_ip.register_map.CTRL.AP_DONE"
   ]
  },
  {
   "cell_type": "code",
   "execution_count": 24,
   "id": "a1af1185",
   "metadata": {},
   "outputs": [
    {
     "name": "stdout",
     "output_type": "stream",
     "text": [
      "[ 0 -1  0 -1  5 -1  0 -1  0]\n"
     ]
    }
   ],
   "source": [
    "print(kern_buff)"
   ]
  },
  {
   "cell_type": "code",
   "execution_count": 25,
   "id": "22803a23",
   "metadata": {},
   "outputs": [
    {
     "name": "stdout",
     "output_type": "stream",
     "text": [
      "[160 158 159 ...  59  80 101]\n"
     ]
    }
   ],
   "source": [
    "print(in_buff)"
   ]
  },
  {
   "cell_type": "code",
   "execution_count": 8,
   "id": "37d7e8ab",
   "metadata": {},
   "outputs": [
    {
     "data": {
      "image/png": "[encoded data removed]",
      "text/plain": [
       "<Figure size 432x288 with 1 Axes>"
      ]
     },
     "metadata": {
      "needs_background": "light"
     },
     "output_type": "display_data"
    }
   ],
   "source": [
    "plt.imshow(out_buff.reshape(100,100),cmap=\"gray\")\n",
    "plt.show()"
   ]
  },
  {
   "cell_type": "code",
   "execution_count": 18,
   "id": "7d5a9679",
   "metadata": {},
   "outputs": [
    {
     "name": "stdout",
     "output_type": "stream",
     "text": [
      "[0 0 0 ... 0 0 0]\n"
     ]
    }
   ],
   "source": [
    "print(out_buff)"
   ]
  },
  {
   "cell_type": "code",
   "execution_count": 19,
   "id": "a5878103",
   "metadata": {
    "scrolled": true
   },
   "outputs": [
    {
     "data": {
      "text/plain": [
       "PynqBuffer([0, 0, 0, ..., 0, 0, 0])"
      ]
     },
     "execution_count": 19,
     "metadata": {},
     "output_type": "execute_result"
    }
   ],
   "source": [
    "out_buff"
   ]
  },
  {
   "cell_type": "code",
   "execution_count": null,
   "id": "f503da2a",
   "metadata": {},
   "outputs": [],
   "source": []
  }
 ],
 "metadata": {
  "kernelspec": {
   "display_name": "Python 3 (ipykernel)",
   "language": "python",
   "name": "python3"
  },
  "language_info": {
   "codemirror_mode": {
    "name": "ipython",
    "version": 3
   },
   "file_extension": ".py",
   "mimetype": "text/x-python",
   "name": "python",
   "nbconvert_exporter": "python",
   "pygments_lexer": "ipython3",
   "version": "3.10.4"
  }
 },
 "nbformat": 4,
 "nbformat_minor": 5
}
